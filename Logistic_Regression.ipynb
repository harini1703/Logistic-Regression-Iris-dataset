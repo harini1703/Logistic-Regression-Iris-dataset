{
  "nbformat": 4,
  "nbformat_minor": 0,
  "metadata": {
    "colab": {
      "provenance": [],
      "collapsed_sections": [],
      "authorship_tag": "ABX9TyMhhClYvWulyn6y2OvWoPke",
      "include_colab_link": true
    },
    "kernelspec": {
      "name": "python3",
      "display_name": "Python 3"
    },
    "language_info": {
      "name": "python"
    }
  },
  "cells": [
    {
      "cell_type": "markdown",
      "metadata": {
        "id": "view-in-github",
        "colab_type": "text"
      },
      "source": [
        "<a href=\"https://colab.research.google.com/github/harini1703/Logistic-Regression-Iris-dataset/blob/main/Logistic_Regression.ipynb\" target=\"_parent\"><img src=\"https://colab.research.google.com/assets/colab-badge.svg\" alt=\"Open In Colab\"/></a>"
      ]
    },
    {
      "cell_type": "code",
      "execution_count": 24,
      "metadata": {
        "id": "GTBjdOyLixL2"
      },
      "outputs": [],
      "source": [
        "from sklearn.datasets import load_iris"
      ]
    },
    {
      "cell_type": "code",
      "source": [
        "data=load_iris()"
      ],
      "metadata": {
        "id": "JgL2c98BmfcE"
      },
      "execution_count": 25,
      "outputs": []
    },
    {
      "cell_type": "code",
      "source": [
        "data.keys()"
      ],
      "metadata": {
        "colab": {
          "base_uri": "https://localhost:8080/"
        },
        "id": "60F10sg0mog5",
        "outputId": "16048def-c0bc-4b5a-8982-7b31a63843eb"
      },
      "execution_count": 26,
      "outputs": [
        {
          "output_type": "execute_result",
          "data": {
            "text/plain": [
              "dict_keys(['data', 'target', 'frame', 'target_names', 'DESCR', 'feature_names', 'filename', 'data_module'])"
            ]
          },
          "metadata": {},
          "execution_count": 26
        }
      ]
    },
    {
      "cell_type": "code",
      "source": [
        "data.DESCR.split('\\n')"
      ],
      "metadata": {
        "colab": {
          "base_uri": "https://localhost:8080/"
        },
        "id": "WHIhw-I_m5lt",
        "outputId": "521d13e0-c013-45ed-da4e-907266580f18"
      },
      "execution_count": 27,
      "outputs": [
        {
          "output_type": "execute_result",
          "data": {
            "text/plain": [
              "['.. _iris_dataset:',\n",
              " '',\n",
              " 'Iris plants dataset',\n",
              " '--------------------',\n",
              " '',\n",
              " '**Data Set Characteristics:**',\n",
              " '',\n",
              " '    :Number of Instances: 150 (50 in each of three classes)',\n",
              " '    :Number of Attributes: 4 numeric, predictive attributes and the class',\n",
              " '    :Attribute Information:',\n",
              " '        - sepal length in cm',\n",
              " '        - sepal width in cm',\n",
              " '        - petal length in cm',\n",
              " '        - petal width in cm',\n",
              " '        - class:',\n",
              " '                - Iris-Setosa',\n",
              " '                - Iris-Versicolour',\n",
              " '                - Iris-Virginica',\n",
              " '                ',\n",
              " '    :Summary Statistics:',\n",
              " '',\n",
              " '    ============== ==== ==== ======= ===== ====================',\n",
              " '                    Min  Max   Mean    SD   Class Correlation',\n",
              " '    ============== ==== ==== ======= ===== ====================',\n",
              " '    sepal length:   4.3  7.9   5.84   0.83    0.7826',\n",
              " '    sepal width:    2.0  4.4   3.05   0.43   -0.4194',\n",
              " '    petal length:   1.0  6.9   3.76   1.76    0.9490  (high!)',\n",
              " '    petal width:    0.1  2.5   1.20   0.76    0.9565  (high!)',\n",
              " '    ============== ==== ==== ======= ===== ====================',\n",
              " '',\n",
              " '    :Missing Attribute Values: None',\n",
              " '    :Class Distribution: 33.3% for each of 3 classes.',\n",
              " '    :Creator: R.A. Fisher',\n",
              " '    :Donor: Michael Marshall (MARSHALL%PLU@io.arc.nasa.gov)',\n",
              " '    :Date: July, 1988',\n",
              " '',\n",
              " 'The famous Iris database, first used by Sir R.A. Fisher. The dataset is taken',\n",
              " \"from Fisher's paper. Note that it's the same as in R, but not as in the UCI\",\n",
              " 'Machine Learning Repository, which has two wrong data points.',\n",
              " '',\n",
              " 'This is perhaps the best known database to be found in the',\n",
              " \"pattern recognition literature.  Fisher's paper is a classic in the field and\",\n",
              " 'is referenced frequently to this day.  (See Duda & Hart, for example.)  The',\n",
              " 'data set contains 3 classes of 50 instances each, where each class refers to a',\n",
              " 'type of iris plant.  One class is linearly separable from the other 2; the',\n",
              " 'latter are NOT linearly separable from each other.',\n",
              " '',\n",
              " '.. topic:: References',\n",
              " '',\n",
              " '   - Fisher, R.A. \"The use of multiple measurements in taxonomic problems\"',\n",
              " '     Annual Eugenics, 7, Part II, 179-188 (1936); also in \"Contributions to',\n",
              " '     Mathematical Statistics\" (John Wiley, NY, 1950).',\n",
              " '   - Duda, R.O., & Hart, P.E. (1973) Pattern Classification and Scene Analysis.',\n",
              " '     (Q327.D83) John Wiley & Sons.  ISBN 0-471-22361-1.  See page 218.',\n",
              " '   - Dasarathy, B.V. (1980) \"Nosing Around the Neighborhood: A New System',\n",
              " '     Structure and Classification Rule for Recognition in Partially Exposed',\n",
              " '     Environments\".  IEEE Transactions on Pattern Analysis and Machine',\n",
              " '     Intelligence, Vol. PAMI-2, No. 1, 67-71.',\n",
              " '   - Gates, G.W. (1972) \"The Reduced Nearest Neighbor Rule\".  IEEE Transactions',\n",
              " '     on Information Theory, May 1972, 431-433.',\n",
              " '   - See also: 1988 MLC Proceedings, 54-64.  Cheeseman et al\"s AUTOCLASS II',\n",
              " '     conceptual clustering system finds 3 classes in the data.',\n",
              " '   - Many, many more ...']"
            ]
          },
          "metadata": {},
          "execution_count": 27
        }
      ]
    },
    {
      "cell_type": "code",
      "source": [
        "x=data.data#question\n",
        "y=data.target"
      ],
      "metadata": {
        "id": "HH2Ti_cNnLBk"
      },
      "execution_count": 28,
      "outputs": []
    },
    {
      "cell_type": "code",
      "source": [
        "x"
      ],
      "metadata": {
        "colab": {
          "base_uri": "https://localhost:8080/"
        },
        "id": "Hf1EJOHnn3Jr",
        "outputId": "cb4d42a7-08b6-4597-91e1-f991b8376dfa"
      },
      "execution_count": 29,
      "outputs": [
        {
          "output_type": "execute_result",
          "data": {
            "text/plain": [
              "array([[5.1, 3.5, 1.4, 0.2],\n",
              "       [4.9, 3. , 1.4, 0.2],\n",
              "       [4.7, 3.2, 1.3, 0.2],\n",
              "       [4.6, 3.1, 1.5, 0.2],\n",
              "       [5. , 3.6, 1.4, 0.2],\n",
              "       [5.4, 3.9, 1.7, 0.4],\n",
              "       [4.6, 3.4, 1.4, 0.3],\n",
              "       [5. , 3.4, 1.5, 0.2],\n",
              "       [4.4, 2.9, 1.4, 0.2],\n",
              "       [4.9, 3.1, 1.5, 0.1],\n",
              "       [5.4, 3.7, 1.5, 0.2],\n",
              "       [4.8, 3.4, 1.6, 0.2],\n",
              "       [4.8, 3. , 1.4, 0.1],\n",
              "       [4.3, 3. , 1.1, 0.1],\n",
              "       [5.8, 4. , 1.2, 0.2],\n",
              "       [5.7, 4.4, 1.5, 0.4],\n",
              "       [5.4, 3.9, 1.3, 0.4],\n",
              "       [5.1, 3.5, 1.4, 0.3],\n",
              "       [5.7, 3.8, 1.7, 0.3],\n",
              "       [5.1, 3.8, 1.5, 0.3],\n",
              "       [5.4, 3.4, 1.7, 0.2],\n",
              "       [5.1, 3.7, 1.5, 0.4],\n",
              "       [4.6, 3.6, 1. , 0.2],\n",
              "       [5.1, 3.3, 1.7, 0.5],\n",
              "       [4.8, 3.4, 1.9, 0.2],\n",
              "       [5. , 3. , 1.6, 0.2],\n",
              "       [5. , 3.4, 1.6, 0.4],\n",
              "       [5.2, 3.5, 1.5, 0.2],\n",
              "       [5.2, 3.4, 1.4, 0.2],\n",
              "       [4.7, 3.2, 1.6, 0.2],\n",
              "       [4.8, 3.1, 1.6, 0.2],\n",
              "       [5.4, 3.4, 1.5, 0.4],\n",
              "       [5.2, 4.1, 1.5, 0.1],\n",
              "       [5.5, 4.2, 1.4, 0.2],\n",
              "       [4.9, 3.1, 1.5, 0.2],\n",
              "       [5. , 3.2, 1.2, 0.2],\n",
              "       [5.5, 3.5, 1.3, 0.2],\n",
              "       [4.9, 3.6, 1.4, 0.1],\n",
              "       [4.4, 3. , 1.3, 0.2],\n",
              "       [5.1, 3.4, 1.5, 0.2],\n",
              "       [5. , 3.5, 1.3, 0.3],\n",
              "       [4.5, 2.3, 1.3, 0.3],\n",
              "       [4.4, 3.2, 1.3, 0.2],\n",
              "       [5. , 3.5, 1.6, 0.6],\n",
              "       [5.1, 3.8, 1.9, 0.4],\n",
              "       [4.8, 3. , 1.4, 0.3],\n",
              "       [5.1, 3.8, 1.6, 0.2],\n",
              "       [4.6, 3.2, 1.4, 0.2],\n",
              "       [5.3, 3.7, 1.5, 0.2],\n",
              "       [5. , 3.3, 1.4, 0.2],\n",
              "       [7. , 3.2, 4.7, 1.4],\n",
              "       [6.4, 3.2, 4.5, 1.5],\n",
              "       [6.9, 3.1, 4.9, 1.5],\n",
              "       [5.5, 2.3, 4. , 1.3],\n",
              "       [6.5, 2.8, 4.6, 1.5],\n",
              "       [5.7, 2.8, 4.5, 1.3],\n",
              "       [6.3, 3.3, 4.7, 1.6],\n",
              "       [4.9, 2.4, 3.3, 1. ],\n",
              "       [6.6, 2.9, 4.6, 1.3],\n",
              "       [5.2, 2.7, 3.9, 1.4],\n",
              "       [5. , 2. , 3.5, 1. ],\n",
              "       [5.9, 3. , 4.2, 1.5],\n",
              "       [6. , 2.2, 4. , 1. ],\n",
              "       [6.1, 2.9, 4.7, 1.4],\n",
              "       [5.6, 2.9, 3.6, 1.3],\n",
              "       [6.7, 3.1, 4.4, 1.4],\n",
              "       [5.6, 3. , 4.5, 1.5],\n",
              "       [5.8, 2.7, 4.1, 1. ],\n",
              "       [6.2, 2.2, 4.5, 1.5],\n",
              "       [5.6, 2.5, 3.9, 1.1],\n",
              "       [5.9, 3.2, 4.8, 1.8],\n",
              "       [6.1, 2.8, 4. , 1.3],\n",
              "       [6.3, 2.5, 4.9, 1.5],\n",
              "       [6.1, 2.8, 4.7, 1.2],\n",
              "       [6.4, 2.9, 4.3, 1.3],\n",
              "       [6.6, 3. , 4.4, 1.4],\n",
              "       [6.8, 2.8, 4.8, 1.4],\n",
              "       [6.7, 3. , 5. , 1.7],\n",
              "       [6. , 2.9, 4.5, 1.5],\n",
              "       [5.7, 2.6, 3.5, 1. ],\n",
              "       [5.5, 2.4, 3.8, 1.1],\n",
              "       [5.5, 2.4, 3.7, 1. ],\n",
              "       [5.8, 2.7, 3.9, 1.2],\n",
              "       [6. , 2.7, 5.1, 1.6],\n",
              "       [5.4, 3. , 4.5, 1.5],\n",
              "       [6. , 3.4, 4.5, 1.6],\n",
              "       [6.7, 3.1, 4.7, 1.5],\n",
              "       [6.3, 2.3, 4.4, 1.3],\n",
              "       [5.6, 3. , 4.1, 1.3],\n",
              "       [5.5, 2.5, 4. , 1.3],\n",
              "       [5.5, 2.6, 4.4, 1.2],\n",
              "       [6.1, 3. , 4.6, 1.4],\n",
              "       [5.8, 2.6, 4. , 1.2],\n",
              "       [5. , 2.3, 3.3, 1. ],\n",
              "       [5.6, 2.7, 4.2, 1.3],\n",
              "       [5.7, 3. , 4.2, 1.2],\n",
              "       [5.7, 2.9, 4.2, 1.3],\n",
              "       [6.2, 2.9, 4.3, 1.3],\n",
              "       [5.1, 2.5, 3. , 1.1],\n",
              "       [5.7, 2.8, 4.1, 1.3],\n",
              "       [6.3, 3.3, 6. , 2.5],\n",
              "       [5.8, 2.7, 5.1, 1.9],\n",
              "       [7.1, 3. , 5.9, 2.1],\n",
              "       [6.3, 2.9, 5.6, 1.8],\n",
              "       [6.5, 3. , 5.8, 2.2],\n",
              "       [7.6, 3. , 6.6, 2.1],\n",
              "       [4.9, 2.5, 4.5, 1.7],\n",
              "       [7.3, 2.9, 6.3, 1.8],\n",
              "       [6.7, 2.5, 5.8, 1.8],\n",
              "       [7.2, 3.6, 6.1, 2.5],\n",
              "       [6.5, 3.2, 5.1, 2. ],\n",
              "       [6.4, 2.7, 5.3, 1.9],\n",
              "       [6.8, 3. , 5.5, 2.1],\n",
              "       [5.7, 2.5, 5. , 2. ],\n",
              "       [5.8, 2.8, 5.1, 2.4],\n",
              "       [6.4, 3.2, 5.3, 2.3],\n",
              "       [6.5, 3. , 5.5, 1.8],\n",
              "       [7.7, 3.8, 6.7, 2.2],\n",
              "       [7.7, 2.6, 6.9, 2.3],\n",
              "       [6. , 2.2, 5. , 1.5],\n",
              "       [6.9, 3.2, 5.7, 2.3],\n",
              "       [5.6, 2.8, 4.9, 2. ],\n",
              "       [7.7, 2.8, 6.7, 2. ],\n",
              "       [6.3, 2.7, 4.9, 1.8],\n",
              "       [6.7, 3.3, 5.7, 2.1],\n",
              "       [7.2, 3.2, 6. , 1.8],\n",
              "       [6.2, 2.8, 4.8, 1.8],\n",
              "       [6.1, 3. , 4.9, 1.8],\n",
              "       [6.4, 2.8, 5.6, 2.1],\n",
              "       [7.2, 3. , 5.8, 1.6],\n",
              "       [7.4, 2.8, 6.1, 1.9],\n",
              "       [7.9, 3.8, 6.4, 2. ],\n",
              "       [6.4, 2.8, 5.6, 2.2],\n",
              "       [6.3, 2.8, 5.1, 1.5],\n",
              "       [6.1, 2.6, 5.6, 1.4],\n",
              "       [7.7, 3. , 6.1, 2.3],\n",
              "       [6.3, 3.4, 5.6, 2.4],\n",
              "       [6.4, 3.1, 5.5, 1.8],\n",
              "       [6. , 3. , 4.8, 1.8],\n",
              "       [6.9, 3.1, 5.4, 2.1],\n",
              "       [6.7, 3.1, 5.6, 2.4],\n",
              "       [6.9, 3.1, 5.1, 2.3],\n",
              "       [5.8, 2.7, 5.1, 1.9],\n",
              "       [6.8, 3.2, 5.9, 2.3],\n",
              "       [6.7, 3.3, 5.7, 2.5],\n",
              "       [6.7, 3. , 5.2, 2.3],\n",
              "       [6.3, 2.5, 5. , 1.9],\n",
              "       [6.5, 3. , 5.2, 2. ],\n",
              "       [6.2, 3.4, 5.4, 2.3],\n",
              "       [5.9, 3. , 5.1, 1.8]])"
            ]
          },
          "metadata": {},
          "execution_count": 29
        }
      ]
    },
    {
      "cell_type": "code",
      "source": [
        "y\n"
      ],
      "metadata": {
        "colab": {
          "base_uri": "https://localhost:8080/"
        },
        "id": "ekM8DYron6AX",
        "outputId": "415594e3-ca5d-4ac5-a80c-2c642e43321f"
      },
      "execution_count": 30,
      "outputs": [
        {
          "output_type": "execute_result",
          "data": {
            "text/plain": [
              "array([0, 0, 0, 0, 0, 0, 0, 0, 0, 0, 0, 0, 0, 0, 0, 0, 0, 0, 0, 0, 0, 0,\n",
              "       0, 0, 0, 0, 0, 0, 0, 0, 0, 0, 0, 0, 0, 0, 0, 0, 0, 0, 0, 0, 0, 0,\n",
              "       0, 0, 0, 0, 0, 0, 1, 1, 1, 1, 1, 1, 1, 1, 1, 1, 1, 1, 1, 1, 1, 1,\n",
              "       1, 1, 1, 1, 1, 1, 1, 1, 1, 1, 1, 1, 1, 1, 1, 1, 1, 1, 1, 1, 1, 1,\n",
              "       1, 1, 1, 1, 1, 1, 1, 1, 1, 1, 1, 1, 2, 2, 2, 2, 2, 2, 2, 2, 2, 2,\n",
              "       2, 2, 2, 2, 2, 2, 2, 2, 2, 2, 2, 2, 2, 2, 2, 2, 2, 2, 2, 2, 2, 2,\n",
              "       2, 2, 2, 2, 2, 2, 2, 2, 2, 2, 2, 2, 2, 2, 2, 2, 2, 2])"
            ]
          },
          "metadata": {},
          "execution_count": 30
        }
      ]
    },
    {
      "cell_type": "code",
      "source": [
        "from sklearn.model_selection import  train_test_split"
      ],
      "metadata": {
        "id": "_BmojPOUoZAz"
      },
      "execution_count": 31,
      "outputs": []
    },
    {
      "cell_type": "code",
      "source": [
        "x_train,x_test,y_train,y_test=train_test_split(x,y,test_size=0.3,shuffle=True,random_state=500)"
      ],
      "metadata": {
        "id": "qjGn4vMEn-Oo"
      },
      "execution_count": 32,
      "outputs": []
    },
    {
      "cell_type": "code",
      "source": [
        "from sklearn.linear_model import LogisticRegression"
      ],
      "metadata": {
        "id": "WSECfsiaokoR"
      },
      "execution_count": 33,
      "outputs": []
    },
    {
      "cell_type": "code",
      "source": [
        "model=LogisticRegression()"
      ],
      "metadata": {
        "id": "vX35FfRspBcY"
      },
      "execution_count": 34,
      "outputs": []
    },
    {
      "cell_type": "code",
      "source": [
        "model.fit(x_train,y_train)"
      ],
      "metadata": {
        "colab": {
          "base_uri": "https://localhost:8080/"
        },
        "id": "F_5F7qrNpN-G",
        "outputId": "294f6454-8d5e-4296-d2c4-434f837a2d95"
      },
      "execution_count": 35,
      "outputs": [
        {
          "output_type": "stream",
          "name": "stderr",
          "text": [
            "/usr/local/lib/python3.7/dist-packages/sklearn/linear_model/_logistic.py:818: ConvergenceWarning: lbfgs failed to converge (status=1):\n",
            "STOP: TOTAL NO. of ITERATIONS REACHED LIMIT.\n",
            "\n",
            "Increase the number of iterations (max_iter) or scale the data as shown in:\n",
            "    https://scikit-learn.org/stable/modules/preprocessing.html\n",
            "Please also refer to the documentation for alternative solver options:\n",
            "    https://scikit-learn.org/stable/modules/linear_model.html#logistic-regression\n",
            "  extra_warning_msg=_LOGISTIC_SOLVER_CONVERGENCE_MSG,\n"
          ]
        },
        {
          "output_type": "execute_result",
          "data": {
            "text/plain": [
              "LogisticRegression()"
            ]
          },
          "metadata": {},
          "execution_count": 35
        }
      ]
    },
    {
      "cell_type": "code",
      "source": [
        "forecast=model.predict(x_test)"
      ],
      "metadata": {
        "id": "Re7XcXU8pSVC"
      },
      "execution_count": 36,
      "outputs": []
    },
    {
      "cell_type": "code",
      "source": [
        "from sklearn.metrics import accuracy_score"
      ],
      "metadata": {
        "id": "BQxIMpCBp1vi"
      },
      "execution_count": 37,
      "outputs": []
    },
    {
      "cell_type": "code",
      "source": [
        "print(accuracy_score(y_test,forecast))"
      ],
      "metadata": {
        "colab": {
          "base_uri": "https://localhost:8080/"
        },
        "id": "JBY2_hatpZE-",
        "outputId": "de895d5b-c14d-49d9-a771-a26555de8d21"
      },
      "execution_count": 38,
      "outputs": [
        {
          "output_type": "stream",
          "name": "stdout",
          "text": [
            "1.0\n"
          ]
        }
      ]
    },
    {
      "cell_type": "code",
      "source": [
        "import numpy as np\n",
        "import pandas as pd"
      ],
      "metadata": {
        "id": "hwY4JOyfqOVv"
      },
      "execution_count": 42,
      "outputs": []
    },
    {
      "cell_type": "code",
      "source": [
        "h=pd.DataFrame(np.c_[y_test,forecast],columns=[\"Acutual\",\"Prediction\"])"
      ],
      "metadata": {
        "id": "JTkTjwKLpmX7"
      },
      "execution_count": 44,
      "outputs": []
    },
    {
      "cell_type": "code",
      "source": [
        "h"
      ],
      "metadata": {
        "colab": {
          "base_uri": "https://localhost:8080/",
          "height": 1000
        },
        "id": "PkJ3BCHmqNGV",
        "outputId": "51c7a85c-8153-4a98-8897-85ea0c7221a5"
      },
      "execution_count": 45,
      "outputs": [
        {
          "output_type": "execute_result",
          "data": {
            "text/plain": [
              "    Acutual  Prediction\n",
              "0         0           0\n",
              "1         2           2\n",
              "2         2           2\n",
              "3         2           2\n",
              "4         1           1\n",
              "5         1           1\n",
              "6         1           1\n",
              "7         1           1\n",
              "8         2           2\n",
              "9         0           0\n",
              "10        1           1\n",
              "11        1           1\n",
              "12        2           2\n",
              "13        0           0\n",
              "14        2           2\n",
              "15        1           1\n",
              "16        2           2\n",
              "17        1           1\n",
              "18        1           1\n",
              "19        0           0\n",
              "20        0           0\n",
              "21        0           0\n",
              "22        1           1\n",
              "23        0           0\n",
              "24        2           2\n",
              "25        2           2\n",
              "26        0           0\n",
              "27        1           1\n",
              "28        2           2\n",
              "29        0           0\n",
              "30        0           0\n",
              "31        2           2\n",
              "32        1           1\n",
              "33        2           2\n",
              "34        1           1\n",
              "35        2           2\n",
              "36        2           2\n",
              "37        0           0\n",
              "38        0           0\n",
              "39        0           0\n",
              "40        1           1\n",
              "41        2           2\n",
              "42        0           0\n",
              "43        0           0\n",
              "44        0           0"
            ],
            "text/html": [
              "\n",
              "  <div id=\"df-ca0aea01-141f-4073-972d-c8b00bff0cf5\">\n",
              "    <div class=\"colab-df-container\">\n",
              "      <div>\n",
              "<style scoped>\n",
              "    .dataframe tbody tr th:only-of-type {\n",
              "        vertical-align: middle;\n",
              "    }\n",
              "\n",
              "    .dataframe tbody tr th {\n",
              "        vertical-align: top;\n",
              "    }\n",
              "\n",
              "    .dataframe thead th {\n",
              "        text-align: right;\n",
              "    }\n",
              "</style>\n",
              "<table border=\"1\" class=\"dataframe\">\n",
              "  <thead>\n",
              "    <tr style=\"text-align: right;\">\n",
              "      <th></th>\n",
              "      <th>Acutual</th>\n",
              "      <th>Prediction</th>\n",
              "    </tr>\n",
              "  </thead>\n",
              "  <tbody>\n",
              "    <tr>\n",
              "      <th>0</th>\n",
              "      <td>0</td>\n",
              "      <td>0</td>\n",
              "    </tr>\n",
              "    <tr>\n",
              "      <th>1</th>\n",
              "      <td>2</td>\n",
              "      <td>2</td>\n",
              "    </tr>\n",
              "    <tr>\n",
              "      <th>2</th>\n",
              "      <td>2</td>\n",
              "      <td>2</td>\n",
              "    </tr>\n",
              "    <tr>\n",
              "      <th>3</th>\n",
              "      <td>2</td>\n",
              "      <td>2</td>\n",
              "    </tr>\n",
              "    <tr>\n",
              "      <th>4</th>\n",
              "      <td>1</td>\n",
              "      <td>1</td>\n",
              "    </tr>\n",
              "    <tr>\n",
              "      <th>5</th>\n",
              "      <td>1</td>\n",
              "      <td>1</td>\n",
              "    </tr>\n",
              "    <tr>\n",
              "      <th>6</th>\n",
              "      <td>1</td>\n",
              "      <td>1</td>\n",
              "    </tr>\n",
              "    <tr>\n",
              "      <th>7</th>\n",
              "      <td>1</td>\n",
              "      <td>1</td>\n",
              "    </tr>\n",
              "    <tr>\n",
              "      <th>8</th>\n",
              "      <td>2</td>\n",
              "      <td>2</td>\n",
              "    </tr>\n",
              "    <tr>\n",
              "      <th>9</th>\n",
              "      <td>0</td>\n",
              "      <td>0</td>\n",
              "    </tr>\n",
              "    <tr>\n",
              "      <th>10</th>\n",
              "      <td>1</td>\n",
              "      <td>1</td>\n",
              "    </tr>\n",
              "    <tr>\n",
              "      <th>11</th>\n",
              "      <td>1</td>\n",
              "      <td>1</td>\n",
              "    </tr>\n",
              "    <tr>\n",
              "      <th>12</th>\n",
              "      <td>2</td>\n",
              "      <td>2</td>\n",
              "    </tr>\n",
              "    <tr>\n",
              "      <th>13</th>\n",
              "      <td>0</td>\n",
              "      <td>0</td>\n",
              "    </tr>\n",
              "    <tr>\n",
              "      <th>14</th>\n",
              "      <td>2</td>\n",
              "      <td>2</td>\n",
              "    </tr>\n",
              "    <tr>\n",
              "      <th>15</th>\n",
              "      <td>1</td>\n",
              "      <td>1</td>\n",
              "    </tr>\n",
              "    <tr>\n",
              "      <th>16</th>\n",
              "      <td>2</td>\n",
              "      <td>2</td>\n",
              "    </tr>\n",
              "    <tr>\n",
              "      <th>17</th>\n",
              "      <td>1</td>\n",
              "      <td>1</td>\n",
              "    </tr>\n",
              "    <tr>\n",
              "      <th>18</th>\n",
              "      <td>1</td>\n",
              "      <td>1</td>\n",
              "    </tr>\n",
              "    <tr>\n",
              "      <th>19</th>\n",
              "      <td>0</td>\n",
              "      <td>0</td>\n",
              "    </tr>\n",
              "    <tr>\n",
              "      <th>20</th>\n",
              "      <td>0</td>\n",
              "      <td>0</td>\n",
              "    </tr>\n",
              "    <tr>\n",
              "      <th>21</th>\n",
              "      <td>0</td>\n",
              "      <td>0</td>\n",
              "    </tr>\n",
              "    <tr>\n",
              "      <th>22</th>\n",
              "      <td>1</td>\n",
              "      <td>1</td>\n",
              "    </tr>\n",
              "    <tr>\n",
              "      <th>23</th>\n",
              "      <td>0</td>\n",
              "      <td>0</td>\n",
              "    </tr>\n",
              "    <tr>\n",
              "      <th>24</th>\n",
              "      <td>2</td>\n",
              "      <td>2</td>\n",
              "    </tr>\n",
              "    <tr>\n",
              "      <th>25</th>\n",
              "      <td>2</td>\n",
              "      <td>2</td>\n",
              "    </tr>\n",
              "    <tr>\n",
              "      <th>26</th>\n",
              "      <td>0</td>\n",
              "      <td>0</td>\n",
              "    </tr>\n",
              "    <tr>\n",
              "      <th>27</th>\n",
              "      <td>1</td>\n",
              "      <td>1</td>\n",
              "    </tr>\n",
              "    <tr>\n",
              "      <th>28</th>\n",
              "      <td>2</td>\n",
              "      <td>2</td>\n",
              "    </tr>\n",
              "    <tr>\n",
              "      <th>29</th>\n",
              "      <td>0</td>\n",
              "      <td>0</td>\n",
              "    </tr>\n",
              "    <tr>\n",
              "      <th>30</th>\n",
              "      <td>0</td>\n",
              "      <td>0</td>\n",
              "    </tr>\n",
              "    <tr>\n",
              "      <th>31</th>\n",
              "      <td>2</td>\n",
              "      <td>2</td>\n",
              "    </tr>\n",
              "    <tr>\n",
              "      <th>32</th>\n",
              "      <td>1</td>\n",
              "      <td>1</td>\n",
              "    </tr>\n",
              "    <tr>\n",
              "      <th>33</th>\n",
              "      <td>2</td>\n",
              "      <td>2</td>\n",
              "    </tr>\n",
              "    <tr>\n",
              "      <th>34</th>\n",
              "      <td>1</td>\n",
              "      <td>1</td>\n",
              "    </tr>\n",
              "    <tr>\n",
              "      <th>35</th>\n",
              "      <td>2</td>\n",
              "      <td>2</td>\n",
              "    </tr>\n",
              "    <tr>\n",
              "      <th>36</th>\n",
              "      <td>2</td>\n",
              "      <td>2</td>\n",
              "    </tr>\n",
              "    <tr>\n",
              "      <th>37</th>\n",
              "      <td>0</td>\n",
              "      <td>0</td>\n",
              "    </tr>\n",
              "    <tr>\n",
              "      <th>38</th>\n",
              "      <td>0</td>\n",
              "      <td>0</td>\n",
              "    </tr>\n",
              "    <tr>\n",
              "      <th>39</th>\n",
              "      <td>0</td>\n",
              "      <td>0</td>\n",
              "    </tr>\n",
              "    <tr>\n",
              "      <th>40</th>\n",
              "      <td>1</td>\n",
              "      <td>1</td>\n",
              "    </tr>\n",
              "    <tr>\n",
              "      <th>41</th>\n",
              "      <td>2</td>\n",
              "      <td>2</td>\n",
              "    </tr>\n",
              "    <tr>\n",
              "      <th>42</th>\n",
              "      <td>0</td>\n",
              "      <td>0</td>\n",
              "    </tr>\n",
              "    <tr>\n",
              "      <th>43</th>\n",
              "      <td>0</td>\n",
              "      <td>0</td>\n",
              "    </tr>\n",
              "    <tr>\n",
              "      <th>44</th>\n",
              "      <td>0</td>\n",
              "      <td>0</td>\n",
              "    </tr>\n",
              "  </tbody>\n",
              "</table>\n",
              "</div>\n",
              "      <button class=\"colab-df-convert\" onclick=\"convertToInteractive('df-ca0aea01-141f-4073-972d-c8b00bff0cf5')\"\n",
              "              title=\"Convert this dataframe to an interactive table.\"\n",
              "              style=\"display:none;\">\n",
              "        \n",
              "  <svg xmlns=\"http://www.w3.org/2000/svg\" height=\"24px\"viewBox=\"0 0 24 24\"\n",
              "       width=\"24px\">\n",
              "    <path d=\"M0 0h24v24H0V0z\" fill=\"none\"/>\n",
              "    <path d=\"M18.56 5.44l.94 2.06.94-2.06 2.06-.94-2.06-.94-.94-2.06-.94 2.06-2.06.94zm-11 1L8.5 8.5l.94-2.06 2.06-.94-2.06-.94L8.5 2.5l-.94 2.06-2.06.94zm10 10l.94 2.06.94-2.06 2.06-.94-2.06-.94-.94-2.06-.94 2.06-2.06.94z\"/><path d=\"M17.41 7.96l-1.37-1.37c-.4-.4-.92-.59-1.43-.59-.52 0-1.04.2-1.43.59L10.3 9.45l-7.72 7.72c-.78.78-.78 2.05 0 2.83L4 21.41c.39.39.9.59 1.41.59.51 0 1.02-.2 1.41-.59l7.78-7.78 2.81-2.81c.8-.78.8-2.07 0-2.86zM5.41 20L4 18.59l7.72-7.72 1.47 1.35L5.41 20z\"/>\n",
              "  </svg>\n",
              "      </button>\n",
              "      \n",
              "  <style>\n",
              "    .colab-df-container {\n",
              "      display:flex;\n",
              "      flex-wrap:wrap;\n",
              "      gap: 12px;\n",
              "    }\n",
              "\n",
              "    .colab-df-convert {\n",
              "      background-color: #E8F0FE;\n",
              "      border: none;\n",
              "      border-radius: 50%;\n",
              "      cursor: pointer;\n",
              "      display: none;\n",
              "      fill: #1967D2;\n",
              "      height: 32px;\n",
              "      padding: 0 0 0 0;\n",
              "      width: 32px;\n",
              "    }\n",
              "\n",
              "    .colab-df-convert:hover {\n",
              "      background-color: #E2EBFA;\n",
              "      box-shadow: 0px 1px 2px rgba(60, 64, 67, 0.3), 0px 1px 3px 1px rgba(60, 64, 67, 0.15);\n",
              "      fill: #174EA6;\n",
              "    }\n",
              "\n",
              "    [theme=dark] .colab-df-convert {\n",
              "      background-color: #3B4455;\n",
              "      fill: #D2E3FC;\n",
              "    }\n",
              "\n",
              "    [theme=dark] .colab-df-convert:hover {\n",
              "      background-color: #434B5C;\n",
              "      box-shadow: 0px 1px 3px 1px rgba(0, 0, 0, 0.15);\n",
              "      filter: drop-shadow(0px 1px 2px rgba(0, 0, 0, 0.3));\n",
              "      fill: #FFFFFF;\n",
              "    }\n",
              "  </style>\n",
              "\n",
              "      <script>\n",
              "        const buttonEl =\n",
              "          document.querySelector('#df-ca0aea01-141f-4073-972d-c8b00bff0cf5 button.colab-df-convert');\n",
              "        buttonEl.style.display =\n",
              "          google.colab.kernel.accessAllowed ? 'block' : 'none';\n",
              "\n",
              "        async function convertToInteractive(key) {\n",
              "          const element = document.querySelector('#df-ca0aea01-141f-4073-972d-c8b00bff0cf5');\n",
              "          const dataTable =\n",
              "            await google.colab.kernel.invokeFunction('convertToInteractive',\n",
              "                                                     [key], {});\n",
              "          if (!dataTable) return;\n",
              "\n",
              "          const docLinkHtml = 'Like what you see? Visit the ' +\n",
              "            '<a target=\"_blank\" href=https://colab.research.google.com/notebooks/data_table.ipynb>data table notebook</a>'\n",
              "            + ' to learn more about interactive tables.';\n",
              "          element.innerHTML = '';\n",
              "          dataTable['output_type'] = 'display_data';\n",
              "          await google.colab.output.renderOutput(dataTable, element);\n",
              "          const docLink = document.createElement('div');\n",
              "          docLink.innerHTML = docLinkHtml;\n",
              "          element.appendChild(docLink);\n",
              "        }\n",
              "      </script>\n",
              "    </div>\n",
              "  </div>\n",
              "  "
            ]
          },
          "metadata": {},
          "execution_count": 45
        }
      ]
    },
    {
      "cell_type": "code",
      "source": [
        "!pip install -q pyngrok # for creating local address sp that user can use our app\n",
        "!pip install -q streamlit #designing the frontend pf ML app"
      ],
      "metadata": {
        "colab": {
          "base_uri": "https://localhost:8080/"
        },
        "id": "DHKePS9Tq59h",
        "outputId": "d8bc833a-5995-4325-cec4-21ac49803da6"
      },
      "execution_count": 46,
      "outputs": [
        {
          "output_type": "stream",
          "name": "stdout",
          "text": [
            "\u001b[?25l\r\u001b[K     |▍                               | 10 kB 25.4 MB/s eta 0:00:01\r\u001b[K     |▉                               | 20 kB 14.4 MB/s eta 0:00:01\r\u001b[K     |█▎                              | 30 kB 19.3 MB/s eta 0:00:01\r\u001b[K     |█▊                              | 40 kB 7.5 MB/s eta 0:00:01\r\u001b[K     |██▏                             | 51 kB 6.0 MB/s eta 0:00:01\r\u001b[K     |██▋                             | 61 kB 7.0 MB/s eta 0:00:01\r\u001b[K     |███                             | 71 kB 7.7 MB/s eta 0:00:01\r\u001b[K     |███▌                            | 81 kB 6.4 MB/s eta 0:00:01\r\u001b[K     |████                            | 92 kB 7.1 MB/s eta 0:00:01\r\u001b[K     |████▍                           | 102 kB 7.8 MB/s eta 0:00:01\r\u001b[K     |████▉                           | 112 kB 7.8 MB/s eta 0:00:01\r\u001b[K     |█████▎                          | 122 kB 7.8 MB/s eta 0:00:01\r\u001b[K     |█████▊                          | 133 kB 7.8 MB/s eta 0:00:01\r\u001b[K     |██████▏                         | 143 kB 7.8 MB/s eta 0:00:01\r\u001b[K     |██████▋                         | 153 kB 7.8 MB/s eta 0:00:01\r\u001b[K     |███████                         | 163 kB 7.8 MB/s eta 0:00:01\r\u001b[K     |███████▌                        | 174 kB 7.8 MB/s eta 0:00:01\r\u001b[K     |████████                        | 184 kB 7.8 MB/s eta 0:00:01\r\u001b[K     |████████▍                       | 194 kB 7.8 MB/s eta 0:00:01\r\u001b[K     |████████▉                       | 204 kB 7.8 MB/s eta 0:00:01\r\u001b[K     |█████████▎                      | 215 kB 7.8 MB/s eta 0:00:01\r\u001b[K     |█████████▊                      | 225 kB 7.8 MB/s eta 0:00:01\r\u001b[K     |██████████▏                     | 235 kB 7.8 MB/s eta 0:00:01\r\u001b[K     |██████████▌                     | 245 kB 7.8 MB/s eta 0:00:01\r\u001b[K     |███████████                     | 256 kB 7.8 MB/s eta 0:00:01\r\u001b[K     |███████████▍                    | 266 kB 7.8 MB/s eta 0:00:01\r\u001b[K     |███████████▉                    | 276 kB 7.8 MB/s eta 0:00:01\r\u001b[K     |████████████▎                   | 286 kB 7.8 MB/s eta 0:00:01\r\u001b[K     |████████████▊                   | 296 kB 7.8 MB/s eta 0:00:01\r\u001b[K     |█████████████▏                  | 307 kB 7.8 MB/s eta 0:00:01\r\u001b[K     |█████████████▋                  | 317 kB 7.8 MB/s eta 0:00:01\r\u001b[K     |██████████████                  | 327 kB 7.8 MB/s eta 0:00:01\r\u001b[K     |██████████████▌                 | 337 kB 7.8 MB/s eta 0:00:01\r\u001b[K     |███████████████                 | 348 kB 7.8 MB/s eta 0:00:01\r\u001b[K     |███████████████▍                | 358 kB 7.8 MB/s eta 0:00:01\r\u001b[K     |███████████████▉                | 368 kB 7.8 MB/s eta 0:00:01\r\u001b[K     |████████████████▎               | 378 kB 7.8 MB/s eta 0:00:01\r\u001b[K     |████████████████▊               | 389 kB 7.8 MB/s eta 0:00:01\r\u001b[K     |█████████████████▏              | 399 kB 7.8 MB/s eta 0:00:01\r\u001b[K     |█████████████████▋              | 409 kB 7.8 MB/s eta 0:00:01\r\u001b[K     |██████████████████              | 419 kB 7.8 MB/s eta 0:00:01\r\u001b[K     |██████████████████▌             | 430 kB 7.8 MB/s eta 0:00:01\r\u001b[K     |███████████████████             | 440 kB 7.8 MB/s eta 0:00:01\r\u001b[K     |███████████████████▍            | 450 kB 7.8 MB/s eta 0:00:01\r\u001b[K     |███████████████████▉            | 460 kB 7.8 MB/s eta 0:00:01\r\u001b[K     |████████████████████▎           | 471 kB 7.8 MB/s eta 0:00:01\r\u001b[K     |████████████████████▋           | 481 kB 7.8 MB/s eta 0:00:01\r\u001b[K     |█████████████████████           | 491 kB 7.8 MB/s eta 0:00:01\r\u001b[K     |█████████████████████▌          | 501 kB 7.8 MB/s eta 0:00:01\r\u001b[K     |██████████████████████          | 512 kB 7.8 MB/s eta 0:00:01\r\u001b[K     |██████████████████████▍         | 522 kB 7.8 MB/s eta 0:00:01\r\u001b[K     |██████████████████████▉         | 532 kB 7.8 MB/s eta 0:00:01\r\u001b[K     |███████████████████████▎        | 542 kB 7.8 MB/s eta 0:00:01\r\u001b[K     |███████████████████████▊        | 552 kB 7.8 MB/s eta 0:00:01\r\u001b[K     |████████████████████████▏       | 563 kB 7.8 MB/s eta 0:00:01\r\u001b[K     |████████████████████████▋       | 573 kB 7.8 MB/s eta 0:00:01\r\u001b[K     |█████████████████████████       | 583 kB 7.8 MB/s eta 0:00:01\r\u001b[K     |█████████████████████████▌      | 593 kB 7.8 MB/s eta 0:00:01\r\u001b[K     |██████████████████████████      | 604 kB 7.8 MB/s eta 0:00:01\r\u001b[K     |██████████████████████████▍     | 614 kB 7.8 MB/s eta 0:00:01\r\u001b[K     |██████████████████████████▉     | 624 kB 7.8 MB/s eta 0:00:01\r\u001b[K     |███████████████████████████▎    | 634 kB 7.8 MB/s eta 0:00:01\r\u001b[K     |███████████████████████████▊    | 645 kB 7.8 MB/s eta 0:00:01\r\u001b[K     |████████████████████████████▏   | 655 kB 7.8 MB/s eta 0:00:01\r\u001b[K     |████████████████████████████▋   | 665 kB 7.8 MB/s eta 0:00:01\r\u001b[K     |█████████████████████████████   | 675 kB 7.8 MB/s eta 0:00:01\r\u001b[K     |█████████████████████████████▌  | 686 kB 7.8 MB/s eta 0:00:01\r\u001b[K     |██████████████████████████████  | 696 kB 7.8 MB/s eta 0:00:01\r\u001b[K     |██████████████████████████████▍ | 706 kB 7.8 MB/s eta 0:00:01\r\u001b[K     |██████████████████████████████▊ | 716 kB 7.8 MB/s eta 0:00:01\r\u001b[K     |███████████████████████████████▏| 727 kB 7.8 MB/s eta 0:00:01\r\u001b[K     |███████████████████████████████▋| 737 kB 7.8 MB/s eta 0:00:01\r\u001b[K     |████████████████████████████████| 745 kB 7.8 MB/s \n",
            "\u001b[?25h  Building wheel for pyngrok (setup.py) ... \u001b[?25l\u001b[?25hdone\n",
            "\u001b[K     |████████████████████████████████| 9.1 MB 7.9 MB/s \n",
            "\u001b[K     |████████████████████████████████| 78 kB 8.2 MB/s \n",
            "\u001b[K     |████████████████████████████████| 235 kB 66.2 MB/s \n",
            "\u001b[K     |████████████████████████████████| 164 kB 73.2 MB/s \n",
            "\u001b[K     |████████████████████████████████| 4.7 MB 39.9 MB/s \n",
            "\u001b[K     |████████████████████████████████| 181 kB 55.6 MB/s \n",
            "\u001b[K     |████████████████████████████████| 63 kB 2.2 MB/s \n",
            "\u001b[K     |████████████████████████████████| 51 kB 8.4 MB/s \n",
            "\u001b[?25h  Building wheel for validators (setup.py) ... \u001b[?25l\u001b[?25hdone\n"
          ]
        }
      ]
    },
    {
      "cell_type": "code",
      "source": [
        "import pickle\n",
        "pickle_out=open(\"flowers.pkl\",'wb')\n",
        "pickle.dump(forecast,pickle_out)\n",
        "pickle_out.close()"
      ],
      "metadata": {
        "id": "qfv6YJHTqXD-"
      },
      "execution_count": 47,
      "outputs": []
    },
    {
      "cell_type": "code",
      "source": [],
      "metadata": {
        "id": "malR-re-rHKk"
      },
      "execution_count": null,
      "outputs": []
    }
  ]
}